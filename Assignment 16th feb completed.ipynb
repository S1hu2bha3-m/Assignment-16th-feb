{
 "cells": [
  {
   "cell_type": "markdown",
   "id": "54c0c5f3-e8d4-425d-9840-9ecd8bfa0b44",
   "metadata": {},
   "source": [
    "Q1. What is a database? Differentiate between SQL and NoSQL databases."
   ]
  },
  {
   "cell_type": "markdown",
   "id": "c0ee8dc0-2dbd-4f57-ba76-c1c389035b33",
   "metadata": {},
   "source": [
    "Ans. A database is a collection of organized data that can be accessed, managed, and updated efficiently. It is a software system that is used to store and retrieve data from a structured format.\n",
    "SQL (Structured Query Language) databases are relational databases that store data in tables with pre-defined relationships between them. SQL databases use a schema to define the structure of the data and support ACID (Atomicity, Consistency, Isolation, and Durability) transactions. SQL databases use SQL to manipulate and retrieve data.\n",
    "\n",
    "NoSQL (Not Only SQL) databases are non-relational databases that store data in a more flexible and scalable manner. NoSQL databases do not require a predefined schema, allowing for more dynamic and ad hoc data storage. NoSQL databases can be categorized into four main types: document-oriented, key-value, column-oriented, and graph databases. NoSQL databases use their own query languages or APIs to manipulate and retrieve data."
   ]
  },
  {
   "cell_type": "markdown",
   "id": "9b8cc1d3-23b4-4efe-b4cc-c93aee6aa3ee",
   "metadata": {},
   "source": [
    "Q2. What is DDL? Explain why CREATE, DROP, ALTER, and TRUNCATE are used with an example."
   ]
  },
  {
   "cell_type": "markdown",
   "id": "9661bdf4-0ee5-4540-9053-a6a59233996d",
   "metadata": {},
   "source": [
    "Ans. DDL stands for Data Definition Language, which is a subset of SQL (Structured Query Language) used to define and manipulate the structure of a database.\n",
    "\n",
    "The following are the commonly used DDL commands in SQL:\n",
    "\n",
    "CREATE: The CREATE command is used to create new database objects such as tables, indexes, and views. For example, the following command creates a new table named \"employees\" with columns for employee ID, name, and salary:\n",
    "sql\n",
    "CREATE TABLE employees (\n",
    "    emp_id INT PRIMARY KEY,\n",
    "    emp_name VARCHAR(50),\n",
    "    salary DECIMAL(10,2)\n",
    ");\n",
    "DROP: The DROP command is used to delete existing database objects such as tables, indexes, and views. For example, the following command drops the \"employees\" table:\n",
    "DROP TABLE employees;\n",
    "\n",
    "ALTER: The ALTER command is used to modify the structure of an existing database object such as a table. For example, the following command adds a new column \"hire_date\" to the \"employees\" table:\n",
    "ALTER TABLE employees ADD COLUMN hire_date DATE;\n",
    "\n",
    "TRUNCATE: The TRUNCATE command is used to delete all data from a table without deleting the table itself. This is a faster way to delete large amounts of data than using the DELETE command. For example, the following command truncates the \"employees\" table:\n",
    "TRUNCATE TABLE employees;\n",
    "\n"
   ]
  },
  {
   "cell_type": "markdown",
   "id": "34c9bd6d-7279-41a6-8f7c-8068112d9d39",
   "metadata": {},
   "source": [
    "Q3. What is DML? Explain INSERT, UPDATE, and DELETE with an example."
   ]
  },
  {
   "cell_type": "markdown",
   "id": "0195530d-1a9f-466b-928d-af5bb214ac08",
   "metadata": {},
   "source": [
    "Ans. DML stands for Data Manipulation Language, which is a category of SQL statements used to manipulate data in a relational database. DML statements are used to insert, update, and delete data in a table. Here are some explanations and examples for each DML statement:\n",
    "\n",
    "INSERT: The INSERT statement is used to add new data into a table. Here is an example of how to use the INSERT statement to add a new record into a table called \"customers\":"
   ]
  },
  {
   "cell_type": "markdown",
   "id": "166c2bd7-34f4-4344-9043-7d0760847105",
   "metadata": {},
   "source": [
    "INSERT INTO customers (first_name, last_name, email, phone_number)\n",
    "VALUES ('John', 'Doe', 'johndoe@example.com', '555-1234');\n"
   ]
  },
  {
   "cell_type": "markdown",
   "id": "3a711bc1-3fc5-4cce-a9aa-ae3db3db1a9d",
   "metadata": {},
   "source": [
    "UPDATE: The UPDATE statement is used to modify existing data in a table. Here is an example of how to use the UPDATE statement to change the phone number of a customer in the \"customers\" table:"
   ]
  },
  {
   "cell_type": "raw",
   "id": "f500d6c9-df2e-4770-81a3-ad7fc9488b3b",
   "metadata": {},
   "source": [
    "UPDATE customers\n",
    "SET phone_number = '555-5678'\n",
    "WHERE customer_id = 1234;\n"
   ]
  },
  {
   "cell_type": "markdown",
   "id": "900968d4-975b-4403-9163-5f5f2b283ffc",
   "metadata": {},
   "source": [
    "DELETE: The DELETE statement is used to remove data from a table. Here is an example of how to use the DELETE statement to remove a customer record from the \"customers\" table:"
   ]
  },
  {
   "cell_type": "markdown",
   "id": "0d3a2edb-0c39-4b21-a18f-837888c9defc",
   "metadata": {},
   "source": [
    "DELETE FROM customers\n",
    "WHERE customer_id = 1234;\n"
   ]
  },
  {
   "cell_type": "markdown",
   "id": "583505d3-229f-4a52-ae34-1e19dce83f71",
   "metadata": {},
   "source": [
    "Q4. What is DQL? Explain SELECT with an example."
   ]
  },
  {
   "cell_type": "markdown",
   "id": "18834752-4916-4c05-84f7-03b09284c352",
   "metadata": {},
   "source": [
    "Ans. DQL stands for Data Query Language, which is a category of SQL statements used to retrieve data from a relational database. DQL statements are used to query the database for information. The most commonly used DQL statement is SELECT. Here is an example of how to use the SELECT statement:\n",
    "\n",
    "SELECT first_name, last_name, email\n",
    "FROM customers\n",
    "WHERE state = 'CA';\n"
   ]
  },
  {
   "cell_type": "markdown",
   "id": "2a534c97-d106-4b73-98c6-a2d5abb5f682",
   "metadata": {},
   "source": [
    "Q5. Explain Primary Key and Foreign Key."
   ]
  },
  {
   "cell_type": "markdown",
   "id": "48098514-f19b-42bd-b466-0aadeb58565e",
   "metadata": {},
   "source": [
    "Ans. In a relational database, a primary key is a unique identifier for a row in a table. It is a column or combination of columns that uniquely identify each row in the table.\n",
    "\n",
    "CREATE TABLE customers (\n",
    "  customer_id INT PRIMARY KEY,\n",
    "  first_name VARCHAR(50),\n",
    "  last_name VARCHAR(50),\n",
    "  email VARCHAR(100)\n",
    ");\n",
    "\n",
    "A foreign key is a column or combination of columns in one table that refers to the primary key in another table. It is used to establish a relationship between two tables in a relational database. The foreign key column in one table is used to reference the primary key in another table, which creates a link between the two tables.\n",
    "\n",
    "CREATE TABLE orders (\n",
    "  order_id INT PRIMARY KEY,\n",
    "  customer_id INT,\n",
    "  order_date DATE,\n",
    "  total DECIMAL(10, 2),\n",
    "  FOREIGN KEY (customer_id) REFERENCES customers(customer_id)\n",
    ");\n"
   ]
  },
  {
   "cell_type": "markdown",
   "id": "8bec7ff9-0404-443f-9b80-7b6f13cc4d11",
   "metadata": {},
   "source": [
    "Q6. Write a python code to connect MySQL to python. Explain the cursor() and execute() method."
   ]
  },
  {
   "cell_type": "markdown",
   "id": "0623e7cc-1a2e-4a55-8327-be5ea589a505",
   "metadata": {},
   "source": [
    "Ans. import mysql.connector\n",
    "\n",
    "mydb = mysql.connector.connect(\n",
    "  host=\"localhost\",\n",
    "  user=\"yourusername\",\n",
    "  password=\"yourpassword\",\n",
    "  database=\"mydatabase\"\n",
    ")\n",
    "\n",
    "mycursor = mydb.cursor()\n",
    "\n",
    "mycursor.execute(\"SELECT * FROM customers\")\n",
    "\n",
    "results = mycursor.fetchall()\n",
    "\n",
    "for result in results:\n",
    "  print(result)\n",
    "  \n",
    "The 'cursor()' method creates a cursor object that is used to execute SQL statements and fetch results from the database. The cursor object maintains the current position in the result set and is used to access the results of the query.\n",
    "\n",
    "The 'execute()' method is used to execute a SQL statement. It takes the SQL statement as a parameter and returns a result object. The result object can be used to fetch the results of the query using methods such as fetchone(), fetchmany(), or fetchall(). In this example, we use the fetchall() method to fetch all the results of the query.\n"
   ]
  },
  {
   "cell_type": "markdown",
   "id": "a3880885-25ea-43f8-bfb9-69a9b99f7f2d",
   "metadata": {},
   "source": [
    "Q7. Give the order of execution of SQL clauses in an SQL query."
   ]
  },
  {
   "cell_type": "markdown",
   "id": "ed50031f-a8c1-492e-bb75-809fbd184875",
   "metadata": {},
   "source": [
    "Ans. The order of execution of SQL clauses in a query is as follows:\n",
    "\n",
    "FROM clause: This clause specifies the table or tables from which to retrieve data.\n",
    "JOIN clause: This clause is used to combine data from multiple tables in the result set.\n",
    "WHERE clause: This clause is used to filter the data based on specified conditions.\n",
    "GROUP BY clause: This clause is used to group the data based on one or more columns.\n",
    "HAVING clause: This clause is used to filter the groups based on specified conditions.\n",
    "SELECT clause: This clause specifies the columns to be retrieved in the result set, and can also include expressions and functions.\n",
    "DISTINCT clause: This clause removes duplicate rows from the result set.\n",
    "ORDER BY clause: This clause is used to sort the result set based on one or more columns."
   ]
  }
 ],
 "metadata": {
  "kernelspec": {
   "display_name": "Python 3 (ipykernel)",
   "language": "python",
   "name": "python3"
  },
  "language_info": {
   "codemirror_mode": {
    "name": "ipython",
    "version": 3
   },
   "file_extension": ".py",
   "mimetype": "text/x-python",
   "name": "python",
   "nbconvert_exporter": "python",
   "pygments_lexer": "ipython3",
   "version": "3.10.8"
  }
 },
 "nbformat": 4,
 "nbformat_minor": 5
}
